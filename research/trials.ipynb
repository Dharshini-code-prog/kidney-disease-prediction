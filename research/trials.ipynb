{
 "cells": [
  {
   "cell_type": "code",
   "execution_count": 1,
   "id": "afa9256a",
   "metadata": {},
   "outputs": [],
   "source": [
    "#config box\n",
    "d={\"key\":\"val\",\"k2\":\"v2\"}"
   ]
  },
  {
   "cell_type": "code",
   "execution_count": 2,
   "id": "b5b8f651",
   "metadata": {},
   "outputs": [
    {
     "data": {
      "text/plain": [
       "'v2'"
      ]
     },
     "execution_count": 2,
     "metadata": {},
     "output_type": "execute_result"
    }
   ],
   "source": [
    "d['k2']"
   ]
  },
  {
   "cell_type": "markdown",
   "id": "c8272c68",
   "metadata": {},
   "source": []
  },
  {
   "cell_type": "code",
   "execution_count": 3,
   "id": "19719e9d",
   "metadata": {},
   "outputs": [
    {
     "ename": "AttributeError",
     "evalue": "'dict' object has no attribute 'k2'",
     "output_type": "error",
     "traceback": [
      "\u001b[1;31m---------------------------------------------------------------------------\u001b[0m",
      "\u001b[1;31mAttributeError\u001b[0m                            Traceback (most recent call last)",
      "Cell \u001b[1;32mIn[3], line 1\u001b[0m\n\u001b[1;32m----> 1\u001b[0m \u001b[43md\u001b[49m\u001b[38;5;241;43m.\u001b[39;49m\u001b[43mk2\u001b[49m\n",
      "\u001b[1;31mAttributeError\u001b[0m: 'dict' object has no attribute 'k2'"
     ]
    }
   ],
   "source": [
    "d.k2"
   ]
  },
  {
   "cell_type": "code",
   "execution_count": 5,
   "id": "df006abc",
   "metadata": {},
   "outputs": [],
   "source": [
    "from box import ConfigBox\n",
    "d2=ConfigBox({\"key\":\"val\",\"k2\":\"v2\"})"
   ]
  },
  {
   "cell_type": "code",
   "execution_count": 6,
   "id": "5fe955ab",
   "metadata": {},
   "outputs": [
    {
     "data": {
      "text/plain": [
       "'val'"
      ]
     },
     "execution_count": 6,
     "metadata": {},
     "output_type": "execute_result"
    }
   ],
   "source": [
    "d2.key\n"
   ]
  },
  {
   "cell_type": "code",
   "execution_count": 18,
   "id": "fd1a8baf",
   "metadata": {},
   "outputs": [],
   "source": [
    "#ensure annotation\n",
    "\n",
    "def get_sum(a:int,b:int) -> int:\n",
    "    return a*b\n"
   ]
  },
  {
   "cell_type": "code",
   "execution_count": 19,
   "id": "3a4f1887",
   "metadata": {},
   "outputs": [
    {
     "data": {
      "text/plain": [
       "20"
      ]
     },
     "execution_count": 19,
     "metadata": {},
     "output_type": "execute_result"
    }
   ],
   "source": [
    "(get_sum(4,5))"
   ]
  },
  {
   "cell_type": "code",
   "execution_count": 20,
   "id": "24ce0741",
   "metadata": {},
   "outputs": [
    {
     "data": {
      "text/plain": [
       "'5555'"
      ]
     },
     "execution_count": 20,
     "metadata": {},
     "output_type": "execute_result"
    }
   ],
   "source": [
    "(get_sum(4,\"5\"))"
   ]
  },
  {
   "cell_type": "code",
   "execution_count": 15,
   "id": "ea1a574b",
   "metadata": {},
   "outputs": [],
   "source": [
    "# by using ensure annotation we can avoid that\n",
    "\n",
    "from ensure import ensure_annotations\n",
    "\n"
   ]
  },
  {
   "cell_type": "code",
   "execution_count": null,
   "id": "a659239d",
   "metadata": {},
   "outputs": [],
   "source": [
    "@ensure_annotations  \n",
    "def get_sum(a:int,b:int) -> int:\n",
    "    return a*b"
   ]
  },
  {
   "cell_type": "code",
   "execution_count": 22,
   "id": "3bcc4c73",
   "metadata": {},
   "outputs": [
    {
     "ename": "EnsureError",
     "evalue": "Argument b of type <class 'str'> to <function get_sum at 0x000002283A19F940> does not match annotation type <class 'int'>",
     "output_type": "error",
     "traceback": [
      "\u001b[1;31m---------------------------------------------------------------------------\u001b[0m",
      "\u001b[1;31mEnsureError\u001b[0m                               Traceback (most recent call last)",
      "Cell \u001b[1;32mIn[22], line 1\u001b[0m\n\u001b[1;32m----> 1\u001b[0m (\u001b[43mget_sum\u001b[49m\u001b[43m(\u001b[49m\u001b[38;5;241;43m4\u001b[39;49m\u001b[43m,\u001b[49m\u001b[38;5;124;43m\"\u001b[39;49m\u001b[38;5;124;43m5\u001b[39;49m\u001b[38;5;124;43m\"\u001b[39;49m\u001b[43m)\u001b[49m)\n",
      "File \u001b[1;32mc:\\Users\\Dharshini\\anaconda3\\envs\\kidney\\lib\\site-packages\\ensure\\main.py:845\u001b[0m, in \u001b[0;36mWrappedFunctionReturn.__call__\u001b[1;34m(self, *args, **kwargs)\u001b[0m\n\u001b[0;32m    840\u001b[0m     \u001b[38;5;28;01mif\u001b[39;00m \u001b[38;5;129;01mnot\u001b[39;00m \u001b[38;5;28misinstance\u001b[39m(value, templ):\n\u001b[0;32m    841\u001b[0m         msg \u001b[38;5;241m=\u001b[39m (\n\u001b[0;32m    842\u001b[0m             \u001b[38;5;124m\"\u001b[39m\u001b[38;5;124mArgument \u001b[39m\u001b[38;5;132;01m{arg}\u001b[39;00m\u001b[38;5;124m of type \u001b[39m\u001b[38;5;132;01m{valt}\u001b[39;00m\u001b[38;5;124m to \u001b[39m\u001b[38;5;132;01m{f}\u001b[39;00m\u001b[38;5;124m \u001b[39m\u001b[38;5;124m\"\u001b[39m\n\u001b[0;32m    843\u001b[0m             \u001b[38;5;124m\"\u001b[39m\u001b[38;5;124mdoes not match annotation type \u001b[39m\u001b[38;5;132;01m{t}\u001b[39;00m\u001b[38;5;124m\"\u001b[39m\n\u001b[0;32m    844\u001b[0m         )\n\u001b[1;32m--> 845\u001b[0m         \u001b[38;5;28;01mraise\u001b[39;00m EnsureError(msg\u001b[38;5;241m.\u001b[39mformat(\n\u001b[0;32m    846\u001b[0m             arg\u001b[38;5;241m=\u001b[39marg, f\u001b[38;5;241m=\u001b[39m\u001b[38;5;28mself\u001b[39m\u001b[38;5;241m.\u001b[39mf, t\u001b[38;5;241m=\u001b[39mtempl, valt\u001b[38;5;241m=\u001b[39m\u001b[38;5;28mtype\u001b[39m(value)\n\u001b[0;32m    847\u001b[0m         ))\n\u001b[0;32m    849\u001b[0m return_val \u001b[38;5;241m=\u001b[39m \u001b[38;5;28mself\u001b[39m\u001b[38;5;241m.\u001b[39mf(\u001b[38;5;241m*\u001b[39margs, \u001b[38;5;241m*\u001b[39m\u001b[38;5;241m*\u001b[39mkwargs)\n\u001b[0;32m    850\u001b[0m \u001b[38;5;28;01mif\u001b[39;00m \u001b[38;5;129;01mnot\u001b[39;00m \u001b[38;5;28misinstance\u001b[39m(return_val, \u001b[38;5;28mself\u001b[39m\u001b[38;5;241m.\u001b[39mreturn_templ):\n",
      "\u001b[1;31mEnsureError\u001b[0m: Argument b of type <class 'str'> to <function get_sum at 0x000002283A19F940> does not match annotation type <class 'int'>"
     ]
    }
   ],
   "source": [
    "(get_sum(4,\"5\"))"
   ]
  },
  {
   "cell_type": "code",
   "execution_count": null,
   "id": "ba35ac93",
   "metadata": {},
   "outputs": [],
   "source": []
  },
  {
   "cell_type": "markdown",
   "id": "11fe7fa8",
   "metadata": {},
   "source": [
    "##Dowload data from GDrive"
   ]
  },
  {
   "cell_type": "markdown",
   "id": "efdcd4c6",
   "metadata": {},
   "source": []
  },
  {
   "cell_type": "code",
   "execution_count": 25,
   "id": "f973916d",
   "metadata": {},
   "outputs": [],
   "source": [
    "import gdown\n"
   ]
  },
  {
   "cell_type": "code",
   "execution_count": 26,
   "id": "39794e8c",
   "metadata": {},
   "outputs": [],
   "source": [
    "url=\"https://drive.google.com/file/d/1aNHKVIpMOSey-IX1gPrf9La5_LWXWONH/view?usp=sharing\""
   ]
  },
  {
   "cell_type": "code",
   "execution_count": 27,
   "id": "63371c12",
   "metadata": {},
   "outputs": [
    {
     "data": {
      "text/plain": [
       "['https:',\n",
       " '',\n",
       " 'drive.google.com',\n",
       " 'file',\n",
       " 'd',\n",
       " '1aNHKVIpMOSey-IX1gPrf9La5_LWXWONH',\n",
       " 'view?usp=sharing']"
      ]
     },
     "execution_count": 27,
     "metadata": {},
     "output_type": "execute_result"
    }
   ],
   "source": [
    "url.split(\"/\")"
   ]
  },
  {
   "cell_type": "code",
   "execution_count": 29,
   "id": "af9d65ae",
   "metadata": {},
   "outputs": [
    {
     "data": {
      "text/plain": [
       "'1aNHKVIpMOSey-IX1gPrf9La5_LWXWONH'"
      ]
     },
     "execution_count": 29,
     "metadata": {},
     "output_type": "execute_result"
    }
   ],
   "source": [
    "file_id=url.split(\"/\")[-2]\n",
    "file_id"
   ]
  },
  {
   "cell_type": "code",
   "execution_count": null,
   "id": "78363155",
   "metadata": {},
   "outputs": [
    {
     "name": "stderr",
     "output_type": "stream",
     "text": [
      "Downloading...\n",
      "From: https://drive.google.com/uc?export=download&id=1aNHKVIpMOSey-IX1gPrf9La5_LWXWONH\n",
      "To: c:\\Users\\Dharshini\\Documents\\kidney-disease\\kidney-disease-prediction\\research\\kidneyData.csv.zip\n",
      "100%|██████████| 113k/113k [00:00<00:00, 437kB/s] \n"
     ]
    },
    {
     "data": {
      "text/plain": [
       "'kidneyData.csv.zip'"
      ]
     },
     "execution_count": 30,
     "metadata": {},
     "output_type": "execute_result"
    }
   ],
   "source": [
    "prefix='https://drive.google.com/uc?export=download&id='\n",
    "gdown.download(prefix+file_id,\"sample.csv.zip\")"
   ]
  },
  {
   "cell_type": "code",
   "execution_count": 31,
   "id": "83171402",
   "metadata": {},
   "outputs": [],
   "source": [
    "\n",
    "\n",
    "url=\"https://drive.google.com/file/d/1vlhZ5c7abUKF8xXERIw6m9Te8fW7ohw3/view?usp=sharing\""
   ]
  },
  {
   "cell_type": "code",
   "execution_count": 32,
   "id": "9c0f5988",
   "metadata": {},
   "outputs": [
    {
     "data": {
      "text/plain": [
       "'1vlhZ5c7abUKF8xXERIw6m9Te8fW7ohw3'"
      ]
     },
     "execution_count": 32,
     "metadata": {},
     "output_type": "execute_result"
    }
   ],
   "source": [
    "file_id = url.split(\"/\")[-2]\n",
    "file_id\n"
   ]
  },
  {
   "cell_type": "code",
   "execution_count": 33,
   "id": "126c0aa3",
   "metadata": {},
   "outputs": [
    {
     "name": "stderr",
     "output_type": "stream",
     "text": [
      "Downloading...\n",
      "From (original): https://drive.google.com/uc?/export=download&id=1vlhZ5c7abUKF8xXERIw6m9Te8fW7ohw3\n",
      "From (redirected): https://drive.google.com/uc?%2Fexport=download&id=1vlhZ5c7abUKF8xXERIw6m9Te8fW7ohw3&confirm=t&uuid=cdc99aed-99e1-4ba9-83ec-92e04661956b\n",
      "To: c:\\Users\\Dharshini\\Documents\\kidney-disease\\kidney-disease-prediction\\research\\kidney-CT-Scan-data.zip\n",
      "100%|██████████| 57.7M/57.7M [00:30<00:00, 1.86MB/s]\n"
     ]
    },
    {
     "data": {
      "text/plain": [
       "'kidney-CT-Scan-data.zip'"
      ]
     },
     "execution_count": 33,
     "metadata": {},
     "output_type": "execute_result"
    }
   ],
   "source": [
    "\n",
    "\n",
    "prefix = 'https://drive.google.com/uc?/export=download&id='\n",
    "gdown.download(prefix+file_id, \"kidney-CT-Scan-data.zip\")\n"
   ]
  },
  {
   "cell_type": "code",
   "execution_count": null,
   "id": "2f54fd72",
   "metadata": {},
   "outputs": [],
   "source": []
  }
 ],
 "metadata": {
  "kernelspec": {
   "display_name": "kidney",
   "language": "python",
   "name": "python3"
  },
  "language_info": {
   "codemirror_mode": {
    "name": "ipython",
    "version": 3
   },
   "file_extension": ".py",
   "mimetype": "text/x-python",
   "name": "python",
   "nbconvert_exporter": "python",
   "pygments_lexer": "ipython3",
   "version": "3.8.20"
  }
 },
 "nbformat": 4,
 "nbformat_minor": 5
}
