{
 "cells": [
  {
   "cell_type": "code",
   "execution_count": 15,
   "id": "e30d1321",
   "metadata": {},
   "outputs": [],
   "source": [
    "import os\n",
    "\n"
   ]
  },
  {
   "cell_type": "code",
   "execution_count": 16,
   "id": "8823d7eb",
   "metadata": {},
   "outputs": [
    {
     "data": {
      "text/plain": [
       "'c:\\\\Users\\\\Dharshini\\\\Documents\\\\kidney-disease\\\\kidney-disease-prediction'"
      ]
     },
     "execution_count": 16,
     "metadata": {},
     "output_type": "execute_result"
    }
   ],
   "source": [
    "%pwd\n",
    "\n",
    "#in this we are in research folder to change dir we use os"
   ]
  },
  {
   "cell_type": "code",
   "execution_count": 84,
   "id": "27532316",
   "metadata": {},
   "outputs": [],
   "source": [
    "os.chdir(\"../\")"
   ]
  },
  {
   "cell_type": "code",
   "execution_count": 87,
   "id": "f7f323e6",
   "metadata": {},
   "outputs": [],
   "source": [
    "os.chdir(r\"c:\\Users\\Dharshini\\Documents\\kidney-disease\\kidney-disease-prediction\")"
   ]
  },
  {
   "cell_type": "code",
   "execution_count": 88,
   "id": "56d56e42",
   "metadata": {},
   "outputs": [
    {
     "data": {
      "text/plain": [
       "'c:\\\\Users\\\\Dharshini\\\\Documents\\\\kidney-disease\\\\kidney-disease-prediction'"
      ]
     },
     "execution_count": 88,
     "metadata": {},
     "output_type": "execute_result"
    }
   ],
   "source": [
    "%pwd"
   ]
  },
  {
   "cell_type": "code",
   "execution_count": 95,
   "id": "a4a4e3e1",
   "metadata": {},
   "outputs": [],
   "source": [
    "#4\n",
    "#we use this for entity\n",
    "#entity- return type of data ingestion func\n",
    "\n",
    "from dataclasses import dataclass\n",
    "from pathlib import Path\n",
    "\n",
    "\n",
    "@dataclass(frozen=True) # we call vari inside this without any func call\n",
    "class DataIngestionConfig: #all this from config.yaml\n",
    "    root_dir: Path\n",
    "    source_URL: str\n",
    "    local_data_file: Path\n",
    "    unzip_dir: Path\n"
   ]
  },
  {
   "cell_type": "code",
   "execution_count": 96,
   "id": "b36025b0",
   "metadata": {},
   "outputs": [],
   "source": [
    "#5\n",
    "\n",
    "from cnnClassifier.constants import *\n",
    "from cnnClassifier.utils.common import read_yaml, create_directories\n"
   ]
  },
  {
   "cell_type": "code",
   "execution_count": 97,
   "id": "7affc04b",
   "metadata": {},
   "outputs": [],
   "source": [
    "class ConfigurationManager:\n",
    "    def __init__(\n",
    "        self,\n",
    "       config_filepath = CONFIG_FILE_PATH,\n",
    "        params_filepath = PARAMS_FILE_PATH\n",
    "): # paths of 2 configs\n",
    "\n",
    "        self.config = read_yaml(config_filepath)\n",
    "        self.params = read_yaml(params_filepath)\n",
    "\n",
    "        create_directories([self.config.artifacts_root])\n",
    "\n",
    "\n",
    "    \n",
    "    def get_data_ingestion_config(self) -> DataIngestionConfig: # return type is tha class\n",
    "        config = self.config.data_ingestion  # return config.yaml content\n",
    "\n",
    "        create_directories([config.root_dir]) #convert root to config dict\n",
    "\n",
    "        data_ingestion_config = DataIngestionConfig(\n",
    "            root_dir=config.root_dir,\n",
    "            source_URL=config.source_URL,\n",
    "            local_data_file=config.local_data_file,\n",
    "            unzip_dir=config.unzip_dir \n",
    "        )\n",
    "\n",
    "        return data_ingestion_config"
   ]
  },
  {
   "cell_type": "code",
   "execution_count": 98,
   "id": "1c00c6f4",
   "metadata": {},
   "outputs": [],
   "source": [
    "#6\n",
    "\n",
    "import os\n",
    "import zipfile\n",
    "import gdown\n",
    "from cnnClassifier import logger\n",
    "from cnnClassifier.utils.common import get_size\n",
    "\n"
   ]
  },
  {
   "cell_type": "code",
   "execution_count": 99,
   "id": "8e7771b8",
   "metadata": {},
   "outputs": [],
   "source": [
    "#executing the same thing how we downloaded dataset from trial\n",
    "\n",
    "class DataIngestion:\n",
    "    def __init__(self, config: DataIngestionConfig): # this return get_data_ingestion_config\n",
    "        self.config = config\n",
    "\n",
    "    \n",
    "    def download_file(self)-> str:\n",
    "        '''\n",
    "        Fetch data from the url\n",
    "        '''\n",
    "\n",
    "        try: \n",
    "            dataset_url = self.config.source_URL\n",
    "            zip_download_dir = self.config.local_data_file\n",
    "            os.makedirs(\"artifacts/data_ingestion\", exist_ok=True)\n",
    "            logger.info(f\"Downloading data from {dataset_url} into file {zip_download_dir}\")\n",
    "\n",
    "            file_id = dataset_url.split(\"/\")[-2]\n",
    "            prefix = 'https://drive.google.com/uc?/export=download&id='\n",
    "            gdown.download(prefix+file_id,zip_download_dir)\n",
    "\n",
    "            logger.info(f\"Downloaded data from {dataset_url} into file {zip_download_dir}\")\n",
    "\n",
    "        except Exception as e:\n",
    "            raise e\n",
    "    def extract_zip_file(self):\n",
    "        \"\"\"\n",
    "        zip_file_path: str\n",
    "        Extracts the zip file into the data directory\n",
    "        Function returns None\n",
    "        \"\"\"\n",
    "        unzip_path = self.config.unzip_dir\n",
    "        os.makedirs(unzip_path, exist_ok=True)\n",
    "        with zipfile.ZipFile(self.config.local_data_file, 'r') as zip_ref:\n",
    "            zip_ref.extractall(unzip_path)"
   ]
  },
  {
   "cell_type": "code",
   "execution_count": 100,
   "id": "a02571b2",
   "metadata": {},
   "outputs": [
    {
     "name": "stdout",
     "output_type": "stream",
     "text": [
      "[2025-05-05 16:51:46,249: INFO: common: yaml file: config\\config.yaml loaded successfully]\n",
      "[2025-05-05 16:51:46,249: INFO: common: yaml file: params.yaml loaded successfully]\n",
      "[2025-05-05 16:51:46,249: INFO: common: created directory at: artifacts]\n",
      "[2025-05-05 16:51:46,257: INFO: common: created directory at: artifacts/data_ingestion]\n",
      "[2025-05-05 16:51:46,259: INFO: 3896973088: Downloading data from https://drive.google.com/file/d/1vlhZ5c7abUKF8xXERIw6m9Te8fW7ohw3/view?usp=sharing into file artifacts/data_ingestion/data.zip]\n"
     ]
    },
    {
     "name": "stderr",
     "output_type": "stream",
     "text": [
      "Downloading...\n",
      "From (original): https://drive.google.com/uc?/export=download&id=1vlhZ5c7abUKF8xXERIw6m9Te8fW7ohw3\n",
      "From (redirected): https://drive.google.com/uc?%2Fexport=download&id=1vlhZ5c7abUKF8xXERIw6m9Te8fW7ohw3&confirm=t&uuid=c6610b40-479a-4d80-8af6-0c22a0307b6b\n",
      "To: c:\\Users\\Dharshini\\Documents\\kidney-disease\\kidney-disease-prediction\\artifacts\\data_ingestion\\data.zip\n",
      "100%|██████████| 57.7M/57.7M [00:42<00:00, 1.35MB/s]"
     ]
    },
    {
     "name": "stdout",
     "output_type": "stream",
     "text": [
      "[2025-05-05 16:52:34,498: INFO: 3896973088: Downloaded data from https://drive.google.com/file/d/1vlhZ5c7abUKF8xXERIw6m9Te8fW7ohw3/view?usp=sharing into file artifacts/data_ingestion/data.zip]\n"
     ]
    },
    {
     "name": "stderr",
     "output_type": "stream",
     "text": [
      "\n"
     ]
    }
   ],
   "source": [
    "#7\n",
    "\n",
    "try:\n",
    "    config = ConfigurationManager()\n",
    "    data_ingestion_config = config.get_data_ingestion_config()# we are assign url to respected variable\n",
    "    data_ingestion = DataIngestion(config=data_ingestion_config)#pass assigned class to this\n",
    "    data_ingestion.download_file()\n",
    "    data_ingestion.extract_zip_file()\n",
    "except Exception as e:\n",
    "    raise e"
   ]
  },
  {
   "cell_type": "code",
   "execution_count": 77,
   "id": "414d9758",
   "metadata": {},
   "outputs": [
    {
     "name": "stdout",
     "output_type": "stream",
     "text": [
      "c:\\Users\\Dharshini\\Documents\\kidney-disease\n"
     ]
    }
   ],
   "source": [
    "import os\n",
    "print(os.getcwd())\n"
   ]
  },
  {
   "cell_type": "code",
   "execution_count": 83,
   "id": "e2b3efc8",
   "metadata": {},
   "outputs": [
    {
     "name": "stdout",
     "output_type": "stream",
     "text": [
      "All directories: [WindowsPath('artifacts/data_ingestion'), WindowsPath('artifacts/data_ingestion/kidney-ct-scan-image'), WindowsPath('artifacts/data_ingestion/kidney-ct-scan-image/Normal'), WindowsPath('artifacts/data_ingestion/kidney-ct-scan-image/Tumor')]\n"
     ]
    }
   ],
   "source": [
    "from pathlib import Path\n",
    "\n",
    "# Specify the directory you want to check\n",
    "path = Path('artifacts')\n",
    "\n",
    "# Recursively list all directories\n",
    "directories = [d for d in path.rglob('*') if d.is_dir()]\n",
    "\n",
    "# Print the list of directories\n",
    "print(\"All directories:\", directories)\n"
   ]
  },
  {
   "cell_type": "code",
   "execution_count": null,
   "id": "ee2b6829",
   "metadata": {},
   "outputs": [],
   "source": []
  }
 ],
 "metadata": {
  "kernelspec": {
   "display_name": "kidney",
   "language": "python",
   "name": "python3"
  },
  "language_info": {
   "codemirror_mode": {
    "name": "ipython",
    "version": 3
   },
   "file_extension": ".py",
   "mimetype": "text/x-python",
   "name": "python",
   "nbconvert_exporter": "python",
   "pygments_lexer": "ipython3",
   "version": "3.8.20"
  }
 },
 "nbformat": 4,
 "nbformat_minor": 5
}
